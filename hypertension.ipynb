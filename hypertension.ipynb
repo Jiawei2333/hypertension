{
 "cells": [
  {
   "cell_type": "code",
   "execution_count": 1,
   "metadata": {},
   "outputs": [],
   "source": [
    "import pandas as pd\n",
    "import numpy as np\n",
    "from datetime import datetime, timedelta\n",
    "from dateutil.parser import parse\n",
    "import os"
   ]
  },
  {
   "cell_type": "code",
   "execution_count": 2,
   "metadata": {},
   "outputs": [],
   "source": [
    "# Define a \"hypertensive index\" which classify blood pressure as 1 if pressure > 180/110, else 0\n",
    "def hyperten_index(df):\n",
    "    hyperten_label = [1 if value1 >= hyperten_threshold_high or value2 >= hyperten_threshold_low else 0\n",
    "                    for value1, value2 in zip(df['Pressure_high'], df['Pressure_low'])]\n",
    "    str_hyperten = ''.join(str(entry) for entry in hyperten_label)\n",
    "    return hyperten_label, str_hyperten"
   ]
  },
  {
   "cell_type": "code",
   "execution_count": 3,
   "metadata": {},
   "outputs": [],
   "source": [
    "# Hypertensive emergency alert\n",
    "def hyperten_emergency(df, str_hyperten):\n",
    "    hyperten_idx = 0  # hyperten_idx is the index of '111' in str_hyperten\n",
    "    df_pointer = 0    # df_pointer \"memorize\" the real index in the original df\n",
    "    while len(str_hyperten) > 0:\n",
    "        hyperten_idx = str_hyperten.find('111') # Find if 3 consecutive readings are > 180/110\n",
    "        if hyperten_idx == -1: # No hypertensive emergency, break the while loop\n",
    "            break\n",
    "        else:\n",
    "            df_pointer += hyperten_idx   # Find '111', move df_pointer to the hyperten_idx position\n",
    "            # Check whether the consecutive 3 readings are within 1 hour\n",
    "            time_start, time_end = df.iloc[df_pointer]['TimeStamp'], df.iloc[df_pointer + 2]['TimeStamp']\n",
    "            time_delta = time_end - time_start\n",
    "            # If the consecutive 3 readings are within 1 hour, check the remaining readings\n",
    "            # If any of the reading is 0, alert[0] should be kept as 0\n",
    "            # if all following readings are 1, raise hypertensive emergency alert\n",
    "            if time_delta < timedelta(hours = 1) and str_hyperten[hyperten_idx:].find('0') == -1:\n",
    "                # Raised hypertensive emergency alert\n",
    "                return True\n",
    "            # hypertensive emergency alert is nullified, check the rest of the str_hyperten\n",
    "            str_hyperten = str_hyperten[hyperten_idx + 1:]\n",
    "            df_pointer += 1\n",
    "    \n",
    "    return False # No hypertensive emergency"
   ]
  },
  {
   "cell_type": "code",
   "execution_count": 4,
   "metadata": {},
   "outputs": [],
   "source": [
    "# Monthly high alert\n",
    "def monthly_high(df):\n",
    "    df_pressure = df[['Pressure_high', 'Pressure_low']]\n",
    "    mean = df_pressure.mean()\n",
    "    # Check if last month average is more than 140/90\n",
    "    if mean['Pressure_high'] >= monthly_threshold_high or mean['Pressure_low'] >= monthly_threshold_low:\n",
    "        return True\n",
    "    else:\n",
    "        return False"
   ]
  },
  {
   "cell_type": "code",
   "execution_count": 5,
   "metadata": {},
   "outputs": [],
   "source": [
    "# Missed reading alert (1)\n",
    "\n",
    "# Any time there is a gap of 7 days in readings of last month\n",
    "def gap_7days(df):\n",
    "    for i in range(len(df)-1): # Iterate over all the instances except the last one\n",
    "        row, next_row = df.iloc[i], df.iloc[i+1]\n",
    "        gap_7 = next_row['TimeStamp'] - row['TimeStamp']\n",
    "        # Any time there is a gap of 7 days in readings of last month,\n",
    "        # raise missed reading alert, and break the for loop\n",
    "        if gap_7 > timedelta(days = 7):\n",
    "            return True\n",
    "    return False"
   ]
  },
  {
   "cell_type": "code",
   "execution_count": 6,
   "metadata": {},
   "outputs": [],
   "source": [
    "# Missed reading alert (2)\n",
    "\n",
    "# No follow-up within an hour after 180/110\n",
    "def no_follow_up(df, hyperten_label):\n",
    "    for j in range(len(hyperten_label)):\n",
    "        if hyperten_label[j] == 1: \n",
    "            # If a reading is > 180/110 and it is the last reading (no following up)\n",
    "            # Raise missed reading alert\n",
    "            if j == len(hyperten_label):\n",
    "                return True\n",
    "            else:\n",
    "                time_hyperten, next_time = df.iloc[j]['TimeStamp'], df.iloc[j + 1]['TimeStamp']\n",
    "                time_gap = next_time - time_hyperten\n",
    "                if time_gap > timedelta(hours = 1): # No follow-up within an hour after 180/110, \n",
    "                    return True # raise missed reading alert, and break the for loop\n",
    "    return False"
   ]
  },
  {
   "cell_type": "code",
   "execution_count": 7,
   "metadata": {},
   "outputs": [],
   "source": [
    "# Main function\n",
    "def raise_alerts(df, ID):\n",
    "    '''\n",
    "    A function that takes in an id and DataFrame file, and returns the following:\n",
    "\n",
    "    (1)- hypertensive emergency if 3 consecutive readings within a hour are more than 180/110 (any one reading higher)\n",
    "        a - this alert is nullified if any reading afterwards is lower.\n",
    "\n",
    "    (2) - monthly high if last month average is more than 140/90\n",
    "\n",
    "    (3) - missed reading if \n",
    "        a. Any time there is a gap of 7 days in readings of last month. \n",
    "        b. No follow-up within an hour after 180/110\n",
    "    '''\n",
    "    df_ID = df[df['ID'] == ID]\n",
    "    hyperten_label, str_hyperten = hyperten_index(df_ID)\n",
    "    print(hyperten_label, str_hyperten)\n",
    "    if hyperten_emergency(df_ID, str_hyperten):\n",
    "        alerts[0] = 1\n",
    "    # Filter the df data and get the readings from last month: df_last_mo\n",
    "    now = datetime.now()\n",
    "    last_month = now.month - 1\n",
    "    mask = [True if time.month == last_month else False for time in df_ID['TimeStamp']]\n",
    "    df_last_mo = df_ID.loc[mask]\n",
    "    if monthly_high(df_last_mo):\n",
    "        alerts[1] = 1\n",
    "    if gap_7days(df_last_mo) or no_follow_up(df_ID, hyperten_label):\n",
    "        alerts[2] = 1\n",
    "    return alerts"
   ]
  },
  {
   "cell_type": "code",
   "execution_count": 8,
   "metadata": {},
   "outputs": [],
   "source": [
    "# Load data\n",
    "path = 'D:\\\\git\\\\hypertension'\n",
    "\n",
    "df = pd.read_csv(os.path.join(path, 'blood_pressure.csv'))\n",
    "# Parse time string to timestamp\n",
    "df['TimeStamp'] = df['TimeStamp'].map(lambda x: parse(x, dayfirst = True))\n",
    "\n",
    "split_values = df['BloodPressure'].str.split('/', expand = True) # Split high and low pressure\n",
    "df[['Pressure_high', 'Pressure_low']] = split_values.astype(int) # Attach these two columns to df\n",
    "\n",
    "# alerts[0]: hypertensive emergency\n",
    "# alerts[1]: monthly high\n",
    "# alerts[2]: missed reading\n",
    "alerts = [0, 0, 0] # Inicialize alerts. 0 stands for no alert while 1 stands for alert\n",
    "\n",
    "# Define hypertension thresholds\n",
    "hyperten_threshold_high = 180\n",
    "hyperten_threshold_low = 110\n",
    "# Define monthly high thresholds\n",
    "monthly_threshold_high = 140\n",
    "monthly_threshold_low = 90"
   ]
  },
  {
   "cell_type": "code",
   "execution_count": 9,
   "metadata": {},
   "outputs": [
    {
     "name": "stdout",
     "output_type": "stream",
     "text": [
      "[0, 0, 1, 1, 1, 1, 0, 0, 0, 0, 0, 0, 0, 1, 1, 1, 0] 00111100000001110\n",
      "[0, 1, 1]\n"
     ]
    }
   ],
   "source": [
    "alerts = raise_alerts(df, 1)\n",
    "print(alerts)"
   ]
  },
  {
   "cell_type": "code",
   "execution_count": 10,
   "metadata": {},
   "outputs": [
    {
     "data": {
      "text/plain": [
       "False"
      ]
     },
     "execution_count": 10,
     "metadata": {},
     "output_type": "execute_result"
    }
   ],
   "source": [
    "False or False"
   ]
  },
  {
   "cell_type": "code",
   "execution_count": null,
   "metadata": {},
   "outputs": [],
   "source": []
  }
 ],
 "metadata": {
  "kernelspec": {
   "display_name": "Python 3",
   "language": "python",
   "name": "python3"
  },
  "language_info": {
   "codemirror_mode": {
    "name": "ipython",
    "version": 3
   },
   "file_extension": ".py",
   "mimetype": "text/x-python",
   "name": "python",
   "nbconvert_exporter": "python",
   "pygments_lexer": "ipython3",
   "version": "3.6.7"
  }
 },
 "nbformat": 4,
 "nbformat_minor": 2
}
